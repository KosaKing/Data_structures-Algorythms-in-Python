{
 "cells": [
  {
   "cell_type": "code",
   "execution_count": 4,
   "id": "0f5f6090",
   "metadata": {},
   "outputs": [],
   "source": [
    "class Node:\n",
    "    def __init__(self, value):\n",
    "        self.value = value\n",
    "        self.next = None\n",
    "    \n",
    "    def __repr__(self):\n",
    "        return f'Value of the node is {self.value}'"
   ]
  },
  {
   "cell_type": "code",
   "execution_count": 14,
   "id": "95fdf3a4",
   "metadata": {},
   "outputs": [],
   "source": [
    "class LinkedList:\n",
    "    def __init__(self, value):\n",
    "        self.new_node = Node(value)\n",
    "        self.head = self.new_node\n",
    "        self.tail = self.new_node\n",
    "        self.length = 1\n",
    "    \n",
    "    def append(self, value):\n",
    "        if self.length == 0:\n",
    "            self.__init__(value)\n",
    "        else:\n",
    "            new_node = Node(value)\n",
    "            self.tail.next = new_node\n",
    "            self.tail = new_node\n",
    "            self.length += 1\n",
    "    \n",
    "    def print_linked_list(self):\n",
    "        temp = self.head\n",
    "        while temp:\n",
    "            print(temp.value)\n",
    "            temp = temp.next\n",
    "            \n",
    "    def pop(self):\n",
    "        if self.length == 0:\n",
    "            return None\n",
    "        result = self.tail\n",
    "        if self.length == 1:\n",
    "            self.head = None\n",
    "            self.tail = None\n",
    "            self.length = 0\n",
    "            return result\n",
    "        temp = self.head\n",
    "        while temp.next != self.tail:\n",
    "            temp = temp.next\n",
    "        self.tail = temp\n",
    "        temp.next = None\n",
    "        self.length -= 1\n",
    "        return result\n",
    "    \n",
    "    def prepend(self): # add a new node with a given value to the beginning of the linked list\n",
    "        pass\n",
    "    \n",
    "    def pop_first(self):\n",
    "        pass\n",
    "    \n",
    "    def get(self, index):\n",
    "        pass\n",
    "    \n",
    "    def set_value(self, index, value):\n",
    "        pass\n",
    "    \n",
    "    def insert(self, index, value):\n",
    "        pass\n",
    "    \n",
    "    def remove(self, index):\n",
    "        pass\n",
    "    \n",
    "    def reverse(self):\n",
    "        pass\n",
    "            \n",
    "    def __len__(self):\n",
    "        return self.length\n",
    "    \n",
    "    def __repr__(self):\n",
    "        return f'Linked list of {len(self)} elements.'\n"
   ]
  },
  {
   "cell_type": "code",
   "execution_count": 23,
   "id": "969ddfea",
   "metadata": {},
   "outputs": [
    {
     "data": {
      "text/plain": [
       "Linked list of 1 elements."
      ]
     },
     "execution_count": 23,
     "metadata": {},
     "output_type": "execute_result"
    }
   ],
   "source": [
    "ll = LinkedList(1)\n",
    "# assert ll.value == 1\n",
    "ll"
   ]
  },
  {
   "cell_type": "code",
   "execution_count": 24,
   "id": "87b079ba",
   "metadata": {},
   "outputs": [],
   "source": [
    "ll.append(10)\n",
    "ll.append(15)\n",
    "ll.append(20)"
   ]
  },
  {
   "cell_type": "code",
   "execution_count": 25,
   "id": "9c767888",
   "metadata": {},
   "outputs": [
    {
     "data": {
      "text/plain": [
       "Linked list of 4 elements."
      ]
     },
     "execution_count": 25,
     "metadata": {},
     "output_type": "execute_result"
    }
   ],
   "source": [
    "ll"
   ]
  },
  {
   "cell_type": "code",
   "execution_count": 47,
   "id": "ab11011b",
   "metadata": {},
   "outputs": [],
   "source": [
    "# Create test cases\n",
    "def test_linked_list():\n",
    "    ll = LinkedList(42)\n",
    "\n",
    "    # Test initialization\n",
    "    assert ll.head.value == 42\n",
    "    assert ll.tail.value == 42\n",
    "    assert ll.length == 1\n",
    "\n",
    "    # Test append\n",
    "    ll.append(99)\n",
    "    assert ll.head.value == 42\n",
    "    assert ll.tail.value == 99\n",
    "    assert ll.length == 2\n",
    "    ll.append(123)\n",
    "    assert ll.head.value == 42\n",
    "    assert ll.tail.value == 123\n",
    "    assert ll.length == 3\n",
    "    ll.append(144)\n",
    "    assert ll.head.value == 42\n",
    "    assert ll.tail.value == 144\n",
    "    assert ll.length == 4\n",
    "    ll.append(222)\n",
    "    assert ll.head.value == 42\n",
    "    assert ll.tail.value == 222\n",
    "    assert ll.length == 5\n",
    "    \n",
    "    # Test pop\n",
    "    assert ll.pop().value == 222\n",
    "    assert ll.length == 4\n",
    "    # TO DO - write tests for the border conditions - when there is one value, when there is zero value\n",
    "    \n",
    "    # Test __repr__\n",
    "    assert repr(ll.head) == \"Value of the node is 42\"\n",
    "    \n",
    "    print('All tests are passed.')"
   ]
  },
  {
   "cell_type": "code",
   "execution_count": 48,
   "id": "bc1b443e",
   "metadata": {},
   "outputs": [
    {
     "name": "stdout",
     "output_type": "stream",
     "text": [
      "All tests are passed.\n"
     ]
    }
   ],
   "source": [
    "# Run the test cases\n",
    "test_linked_list()"
   ]
  },
  {
   "cell_type": "code",
   "execution_count": null,
   "id": "fd2d8ee2",
   "metadata": {},
   "outputs": [],
   "source": []
  }
 ],
 "metadata": {
  "kernelspec": {
   "display_name": "Python 3 (ipykernel)",
   "language": "python",
   "name": "python3"
  },
  "language_info": {
   "codemirror_mode": {
    "name": "ipython",
    "version": 3
   },
   "file_extension": ".py",
   "mimetype": "text/x-python",
   "name": "python",
   "nbconvert_exporter": "python",
   "pygments_lexer": "ipython3",
   "version": "3.10.5"
  }
 },
 "nbformat": 4,
 "nbformat_minor": 5
}
